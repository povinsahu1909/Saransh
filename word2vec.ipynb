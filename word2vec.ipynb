{
  "cells": [
    {
      "cell_type": "markdown",
      "metadata": {
        "id": "view-in-github",
        "colab_type": "text"
      },
      "source": [
        "<a href=\"https://colab.research.google.com/github/povinsahu1909/Saransh/blob/main/word2vec.ipynb\" target=\"_parent\"><img src=\"https://colab.research.google.com/assets/colab-badge.svg\" alt=\"Open In Colab\"/></a>"
      ]
    },
    {
      "cell_type": "code",
      "source": [
        "from pprint import pprint"
      ],
      "metadata": {
        "id": "yF76cfqmhHIW"
      },
      "execution_count": 2,
      "outputs": []
    },
    {
      "cell_type": "code",
      "execution_count": 105,
      "metadata": {
        "id": "4CiIhV27dijB",
        "colab": {
          "base_uri": "https://localhost:8080/"
        },
        "outputId": "0e265703-e85b-4be4-9809-c913d9d03540"
      },
      "outputs": [
        {
          "output_type": "stream",
          "name": "stdout",
          "text": [
            "Developers. Developers. Developers. Developers. Developers. Developers. Developers. Developers. Developers. Developers. Developers. Developers. Developers. Developers? Yes. You.\n"
          ]
        }
      ],
      "source": [
        "from sklearn.feature_extraction.text import TfidfVectorizer\n",
        "from spacy.lang.en import English\n",
        "import numpy as np\n",
        "import requests\n",
        "\n",
        "nlp = English()\n",
        "nlp.add_pipe(nlp.create_pipe('sentencizer'))\n",
        "\n",
        "\n",
        "target_url = \"https://firebasestorage.googleapis.com/v0/b/saransh-36252.appspot.com/o/text%2Fnew.txt?alt=media&token=dd2854fc-4356-4df4-a648-cd311dacc99b\"\n",
        "\n",
        "response = requests.get(target_url)\n",
        "data = response.text\n",
        "print(data)"
      ]
    },
    {
      "cell_type": "code",
      "execution_count": 1,
      "metadata": {
        "id": "KL6ksK0gduqc"
      },
      "outputs": [],
      "source": [
        "text_corpus = '''Google celebrated British illustrator and artist Sir John Tenniel's 200th birth anniversary with a doodle on February 28. An acclaimed Victorian painter, Tenniel is celebrated for his illustrations for Lewis Carroll's Alice's Adventures in Wonderland and Through the Looking-Glass. Tenniel was born in Bayswater, West London in 1820. At the age of 20, Tenniel received a major eye injury and eventually, lost sight in his right eye. From a very early age, Tenniel was appreciated as a humorist and soon after, also cultured his talent for scholarly caricature. His first illustration was for Samuel Carter Hall's The Book of British Ballads in 1842. Eight years later, he joined the historic weekly magazine Punch as a political cartoonist. Lewis Carroll noticed Tenniel's distinct style of work and in 1864, approached the artist to illustrate his book, Alice's Adventures in Wonderland. This association marked Carroll and Tenniel's creative partnership and continued with Through the Looking Glass in 1872. \"The result: a series of classic characters, such as Alice and the Cheshire Cat, as depicted in the Doodle artwork's rendition of their iconic meeting-characters who, along with many others, remain beloved by readers of all ages to this day,\" the Google Doodle page says. After working with Lewis Carroll, Tenniel resumed his work with Punch. For his work, Tenniel also received a knighthood in 1893. Sir John Tenniel died on February 25, 1914. He was 93.'''\n"
      ]
    },
    {
      "cell_type": "code",
      "execution_count": 103,
      "metadata": {
        "cellView": "code",
        "id": "VRrMSIGTVcpZ",
        "colab": {
          "base_uri": "https://localhost:8080/"
        },
        "outputId": "ca0a8edb-7bdf-4569-ce28-b3533fbc6cde"
      },
      "outputs": [
        {
          "output_type": "stream",
          "name": "stdout",
          "text": [
            "Summarizer Result: \n",
            " Google celebrated British illustrator and artist Sir John Tenniel's 200th birth anniversary with a doodle on February 28. An acclaimed Victorian painter, Tenniel is celebrated for his illustrations for Lewis Carroll's Alice's Adventures in Wonderland and Through the Looking-Glass. Lewis Carroll noticed Tenniel's distinct style of work and in 1864, approached the artist to illustrate his book, Alice's Adventures in Wonderland.\n"
          ]
        }
      ],
      "source": [
        "#@title Default title text\n",
        "def summarizer(text, tokenizer, max_sent_in_summary=3):\n",
        "    document = nlp(text_corpus.replace(\"\\n\", \"\"))\n",
        "    sentences = [sent.string.strip() for sent in document.sents]\n",
        "    sentence_organizer = {k:v for v,k in enumerate(sentences)}\n",
        "    tf_idf_vectorizer = TfidfVectorizer(min_df=2,  max_features=None, \n",
        "                                        strip_accents='unicode', \n",
        "                                        analyzer='word',\n",
        "                                        token_pattern=r'\\w{1,}',\n",
        "                                        ngram_range=(1, 3), \n",
        "                                        use_idf=1,smooth_idf=1,\n",
        "                                        sublinear_tf=1,\n",
        "                                        stop_words = 'english')\n",
        "    tf_idf_vectorizer.fit(sentences)\n",
        "    sentence_vectors = tf_idf_vectorizer.transform(sentences)\n",
        "    sentence_scores = np.array(sentence_vectors.sum(axis=1)).ravel()\n",
        "    N = max_sent_in_summary\n",
        "    top_n_sentences = [sentences[ind] for ind in np.argsort(sentence_scores, axis=0)[::-1][:N]]\n",
        "    mapped_top_n_sentences = [(sentence,sentence_organizer[sentence]) for sentence in top_n_sentences]\n",
        "    mapped_top_n_sentences = sorted(mapped_top_n_sentences, key = lambda x: x[1])\n",
        "    ordered_scored_sentences = [element[0] for element in mapped_top_n_sentences]\n",
        "    summary = \" \".join(ordered_scored_sentences)\n",
        "    return summary\n",
        "\n",
        "print(\"Summarizer Result: \\n\", summarizer(text=text_corpus, tokenizer=nlp, max_sent_in_summary=3))"
      ]
    },
    {
      "cell_type": "code",
      "source": [
        ""
      ],
      "metadata": {
        "id": "lDhJhKpKDKGT"
      },
      "execution_count": null,
      "outputs": []
    },
    {
      "cell_type": "code",
      "source": [
        "text_corpus = '''Google celebrated British illustrator and artist Sir John Tenniel's 200th birth anniversary with a doodle on February 28. An acclaimed Victorian painter, Tenniel is celebrated for his illustrations for Lewis Carroll's Alice's Adventures in Wonderland and Through the Looking-Glass. Tenniel was born in Bayswater, West London in 1820. At the age of 20, Tenniel received a major eye injury and eventually, lost sight in his right eye. From a very early age, Tenniel was appreciated as a humorist and soon after, also cultured his talent for scholarly caricature. His first illustration was for Samuel Carter Hall's The Book of British Ballads in 1842. Eight years later, he joined the historic weekly magazine Punch as a political cartoonist. Lewis Carroll noticed Tenniel's distinct style of work and in 1864, approached the artist to illustrate his book, Alice's Adventures in Wonderland. This association marked Carroll and Tenniel's creative partnership and continued with Through the Looking Glass in 1872. \"The result: a series of classic characters, such as Alice and the Cheshire Cat, as depicted in the Doodle artwork's rendition of their iconic meeting-characters who, along with many others, remain beloved by readers of all ages to this day,\" the Google Doodle page says. After working with Lewis Carroll, Tenniel resumed his work with Punch. For his work, Tenniel also received a knighthood in 1893. Sir John Tenniel died on February 25, 1914. He was 93.'''\n",
        "text = text_corpus\n",
        "import re\n",
        "\n",
        "def tokenize(text):\n",
        "    pattern = re.compile(r'[A-Za-z0-9]+[\\w^\\']*|[\\w^\\']*[A-Za-z0-9]+[\\w^\\']*')\n",
        "    return pattern.findall(text.lower())\n",
        "\n",
        "tokens = tokenize(text)"
      ],
      "metadata": {
        "id": "yeIStrdVDL0p"
      },
      "execution_count": 22,
      "outputs": []
    },
    {
      "cell_type": "code",
      "source": [
        "def mapping(tokens):\n",
        "    word_to_id = {}\n",
        "    id_to_word = {}\n",
        "    \n",
        "    for i, token in enumerate(set(tokens)):\n",
        "        word_to_id[token] = i\n",
        "        id_to_word[i] = token\n",
        "    \n",
        "    return word_to_id, id_to_word\n",
        "\n",
        "word_to_id, id_to_word = mapping(tokens)\n"
      ],
      "metadata": {
        "id": "a9_rn402DkKL"
      },
      "execution_count": 23,
      "outputs": []
    },
    {
      "cell_type": "code",
      "source": [
        "import numpy as np\n",
        "\n",
        "np.random.seed(42)\n",
        "\n",
        "\n",
        "def generate_training_data(tokens, word_to_id, window):\n",
        "    X = []\n",
        "    y = []\n",
        "    n_tokens = len(tokens)\n",
        "    \n",
        "    for i in range(n_tokens):\n",
        "        idx = concat(\n",
        "            range(max(0, i - window), i), \n",
        "            range(i, min(n_tokens, i + window + 1))\n",
        "        )\n",
        "        for j in idx:\n",
        "            if i == j:\n",
        "                continue\n",
        "            X.append(one_hot_encode(word_to_id[tokens[i]], len(word_to_id)))\n",
        "            y.append(one_hot_encode(word_to_id[tokens[j]], len(word_to_id)))\n",
        "    \n",
        "    return np.asarray(X), np.asarray(y)\n",
        "\n",
        "\n",
        "def concat(*iterables):\n",
        "    for iterable in iterables:\n",
        "        yield from iterable\n",
        "\n",
        "\n",
        "def one_hot_encode(id, vocab_size):\n",
        "    res = [0] * vocab_size\n",
        "    res[id] = 1\n",
        "    return res\n",
        "\n",
        "\n",
        "X, y = generate_training_data(tokens, word_to_id, 2)\n"
      ],
      "metadata": {
        "id": "QXaA1eC-Dr_2"
      },
      "execution_count": 24,
      "outputs": []
    },
    {
      "cell_type": "code",
      "source": [
        "X.shape\n",
        "y.shape\n"
      ],
      "metadata": {
        "colab": {
          "base_uri": "https://localhost:8080/"
        },
        "id": "qjiNIR1JESvW",
        "outputId": "2bbcb63d-b63a-4888-f569-78d0d76d149c"
      },
      "execution_count": 17,
      "outputs": [
        {
          "output_type": "execute_result",
          "data": {
            "text/plain": [
              "(934, 138)"
            ]
          },
          "metadata": {},
          "execution_count": 17
        }
      ]
    },
    {
      "cell_type": "code",
      "source": [
        "def init_network(vocab_size, n_embedding):\n",
        "    model = {\n",
        "        \"w1\": np.random.randn(vocab_size, n_embedding),\n",
        "        \"w2\": np.random.randn(n_embedding, vocab_size)\n",
        "    }\n",
        "    return model\n",
        "\n",
        "\n",
        "model = init_network(len(word_to_id), 10)\n",
        "\n",
        "\n",
        "def forward(model, X, return_cache=True):\n",
        "    cache = {}\n",
        "    \n",
        "    cache[\"a1\"] = X @ model[\"w1\"]\n",
        "    cache[\"a2\"] = cache[\"a1\"] @ model[\"w2\"]\n",
        "    cache[\"z\"] = softmax(cache[\"a2\"])\n",
        "    \n",
        "    if not return_cache:\n",
        "        return cache[\"z\"]\n",
        "    return cache\n",
        "\n",
        "\n",
        "def softmax(X):\n",
        "    res = []\n",
        "    for x in X:\n",
        "        exp = np.exp(x)\n",
        "        res.append(exp / exp.sum())\n",
        "    return res\n",
        "\n",
        "\n",
        "(X @ model[\"w1\"]).shape\n",
        "(X @ model[\"w1\"] @ model[\"w2\"]).shape"
      ],
      "metadata": {
        "colab": {
          "base_uri": "https://localhost:8080/"
        },
        "id": "0dABsXpZD6ew",
        "outputId": "af262832-156f-4fd4-c832-1426477cc3ad"
      },
      "execution_count": 25,
      "outputs": [
        {
          "output_type": "execute_result",
          "data": {
            "text/plain": [
              "(934, 138)"
            ]
          },
          "metadata": {},
          "execution_count": 25
        }
      ]
    },
    {
      "cell_type": "code",
      "source": [
        "def backward(model, X, y, alpha):\n",
        "    cache  = forward(model, X)\n",
        "    da2 = cache[\"z\"] - y\n",
        "    dw2 = cache[\"a1\"].T @ da2\n",
        "    da1 = da2 @ model[\"w2\"].T\n",
        "    dw1 = X.T @ da1\n",
        "    assert(dw2.shape == model[\"w2\"].shape)\n",
        "    assert(dw1.shape == model[\"w1\"].shape)\n",
        "    model[\"w1\"] -= alpha * dw1\n",
        "    model[\"w2\"] -= alpha * dw2\n",
        "    return cross_entropy(cache[\"z\"], y)\n",
        "\n",
        "\n",
        "def cross_entropy(z, y):\n",
        "    return - np.sum(np.log(z) * y)\n",
        "\n",
        "\n",
        "n_iter = 1\n",
        "learning_rate = 0.1\n",
        "\n",
        "history = [backward(model, X, y, learning_rate) for _ in range(n_iter)]\n",
        "\n",
        "learning = one_hot_encode(word_to_id[\"google\"], len(word_to_id))\n",
        "result = forward(model, [learning], return_cache=False)[0]\n",
        "\n",
        "print(result)\n",
        "# count = 0 \n",
        "# for word in (id_to_word[id] for id in np.argsort(result)[::-1]):\n",
        "#     count += 1\n",
        "#     print(word)"
      ],
      "metadata": {
        "colab": {
          "base_uri": "https://localhost:8080/"
        },
        "id": "xEseyhz9EiVi",
        "outputId": "cf616167-6aea-4f1b-8563-40427de9a7ab"
      },
      "execution_count": 36,
      "outputs": [
        {
          "output_type": "stream",
          "name": "stdout",
          "text": [
            "[nan nan nan nan nan nan nan nan nan nan nan nan nan nan nan nan nan nan\n",
            " nan nan nan nan nan nan nan nan nan nan nan nan nan nan nan nan nan nan\n",
            " nan nan nan nan nan nan nan nan nan nan nan nan nan nan nan nan nan nan\n",
            " nan nan nan nan nan nan nan nan nan nan nan nan nan nan nan nan nan nan\n",
            " nan nan nan nan nan nan nan nan nan nan nan nan nan nan nan nan nan nan\n",
            " nan nan nan nan nan nan nan nan nan nan nan nan nan nan nan nan nan nan\n",
            " nan nan nan nan nan nan nan nan nan nan nan nan nan nan nan nan nan nan\n",
            " nan nan nan nan nan nan nan nan nan nan nan nan]\n"
          ]
        }
      ]
    },
    {
      "cell_type": "code",
      "source": [
        "learning = one_hot_encode(word_to_id[\"google\"], len(word_to_id))\n",
        "result = forward(model, [learning], return_cache=False)[0]\n",
        "result"
      ],
      "metadata": {
        "colab": {
          "base_uri": "https://localhost:8080/"
        },
        "id": "KW0Rv5SCBVbd",
        "outputId": "c3a2e0e5-938a-4182-e2e5-816afce97239"
      },
      "execution_count": 27,
      "outputs": [
        {
          "output_type": "execute_result",
          "data": {
            "text/plain": [
              "array([0.00830634, 0.00498398, 0.00604721, 0.00932442, 0.00201127,\n",
              "       0.00033416, 0.01329309, 0.01610928, 0.00018259, 0.00232764,\n",
              "       0.00164796, 0.0133021 , 0.00340891, 0.00161643, 0.00522385,\n",
              "       0.01314364, 0.02918905, 0.00754457, 0.00140188, 0.00800645,\n",
              "       0.0045584 , 0.01034707, 0.00554921, 0.00095867, 0.00690523,\n",
              "       0.00432935, 0.02240316, 0.00055314, 0.00207516, 0.00115766,\n",
              "       0.00352728, 0.00256382, 0.00022834, 0.00406192, 0.00414238,\n",
              "       0.01770899, 0.00173012, 0.00124272, 0.00358867, 0.0012539 ,\n",
              "       0.00480857, 0.03131056, 0.00163916, 0.00203429, 0.00072793,\n",
              "       0.0149498 , 0.00133755, 0.00027408, 0.00080501, 0.00889127,\n",
              "       0.01245869, 0.00145731, 0.00694629, 0.00814219, 0.00404688,\n",
              "       0.00891762, 0.00313511, 0.01538313, 0.00204016, 0.0014208 ,\n",
              "       0.03282515, 0.0010558 , 0.00092074, 0.04972168, 0.00143392,\n",
              "       0.0064275 , 0.00229249, 0.01167329, 0.0030048 , 0.00028578,\n",
              "       0.01239747, 0.00025927, 0.01535333, 0.00187592, 0.0007675 ,\n",
              "       0.00539573, 0.00200263, 0.00440821, 0.00240705, 0.00148019,\n",
              "       0.00453061, 0.00276538, 0.00105514, 0.00380099, 0.00160307,\n",
              "       0.00304259, 0.00288145, 0.00283355, 0.00782436, 0.00158927,\n",
              "       0.00480852, 0.00986749, 0.00809253, 0.03980875, 0.0167424 ,\n",
              "       0.00084776, 0.03335752, 0.00071418, 0.00402291, 0.00583605,\n",
              "       0.01242378, 0.00126315, 0.00066994, 0.00189782, 0.00178966,\n",
              "       0.01108907, 0.00481655, 0.02413071, 0.0184813 , 0.00152537,\n",
              "       0.00330038, 0.00156807, 0.00065165, 0.00101486, 0.00185342,\n",
              "       0.00469686, 0.00222379, 0.08090285, 0.00077419, 0.00298402,\n",
              "       0.00116366, 0.00756527, 0.00650839, 0.00139382, 0.01594655,\n",
              "       0.00074674, 0.00516649, 0.00596619, 0.00057667, 0.00270422,\n",
              "       0.05039367, 0.00120887, 0.00148231, 0.00074596, 0.01214241,\n",
              "       0.00850248, 0.00155226, 0.00914723])"
            ]
          },
          "metadata": {},
          "execution_count": 27
        }
      ]
    },
    {
      "cell_type": "code",
      "source": [
        "ind = np.argpartition(result, -10)[-10:]\n",
        "result[ind].sum()"
      ],
      "metadata": {
        "colab": {
          "base_uri": "https://localhost:8080/"
        },
        "id": "ML3nvz_MC2lA",
        "outputId": "0856557c-a127-4485-d802-14d1aa999cd4"
      },
      "execution_count": 28,
      "outputs": [
        {
          "output_type": "execute_result",
          "data": {
            "text/plain": [
              "0.394043106755817"
            ]
          },
          "metadata": {},
          "execution_count": 28
        }
      ]
    },
    {
      "cell_type": "code",
      "source": [
        "import spacy\n",
        "from spacy.lang.en.stop_words import STOP_WORDS\n",
        "from string import punctuation\n",
        "\n",
        "stopwords = list(STOP_WORDS)\n",
        "doc = spacy.load('en_core_web_sm')\n",
        "doc = doc(text_corpus)\n",
        "\n",
        "# tokens = [token.text for token in doc]\n",
        "# punctuation = punctuation + '\\n'\n",
        "\n",
        "word_frequencies = {}\n",
        "\n",
        "# for word in tokens:\n",
        "#     if word.lower() not in stopwords:\n",
        "#         if word.lower() not in punctuation:\n",
        "#             if word not in word_frequencies.keys():\n",
        "#                 word_frequencies[word] = 1\n",
        "#             else:\n",
        "#                 word_frequencies[word] += 1\n",
        "for word in tokens:\n",
        "    if word not in word_frequencies.keys():\n",
        "        word_frequencies[word] = 1\n",
        "    else:\n",
        "        word_frequencies[word] += 1\n",
        "\n",
        "\n",
        "max_frequency = max(word_frequencies.values())\n",
        "\n",
        "for word in word_frequencies.keys():\n",
        "    word_frequencies[word] = word_frequencies[word]/max_frequency\n",
        "\n"
      ],
      "metadata": {
        "id": "YnWSezaxOazI"
      },
      "execution_count": 29,
      "outputs": []
    },
    {
      "cell_type": "code",
      "source": [
        "sentences_tokens = [sent for sent in doc.sents]\n",
        "# print(len(sentences_tokens))\n",
        "sentence_organizer = {k:v for v,k in enumerate(sentences_tokens)}\n",
        "# print(sentence_organizer)"
      ],
      "metadata": {
        "id": "jN66cmYCa58b"
      },
      "execution_count": 30,
      "outputs": []
    },
    {
      "cell_type": "code",
      "source": [
        "embeddings = {}\n",
        "for word in word_to_id:\n",
        "    learning = one_hot_encode(word_to_id[word], len(word_to_id))\n",
        "    result = forward(model, [learning], return_cache=False)[0]\n",
        "    ind = np.argpartition(result, -10)[-10:]\n",
        "    embeddings[word] = result[ind].sum()\n"
      ],
      "metadata": {
        "id": "jR3TZkOdjQIq"
      },
      "execution_count": 31,
      "outputs": []
    },
    {
      "cell_type": "code",
      "source": [
        "sentence_scores = {}\n",
        "for sent in sentences_tokens:\n",
        "    for word in sent:\n",
        "        if word.text.lower() not in punctuation:\n",
        "            if word.text.lower() in word_frequencies.keys():\n",
        "                if sent not in sentence_scores.keys():\n",
        "                    sentence_scores[sent] = word_frequencies[word.text.lower()] * embeddings[word.text.lower()]\n",
        "                else:\n",
        "                    sentence_scores[sent] += word_frequencies[word.text.lower()] * embeddings[word.text.lower()]\n",
        "            else:\n",
        "                continue\n"
      ],
      "metadata": {
        "id": "6HQalSAhic8W"
      },
      "execution_count": 32,
      "outputs": []
    },
    {
      "cell_type": "code",
      "source": [
        "sentence_scores"
      ],
      "metadata": {
        "colab": {
          "base_uri": "https://localhost:8080/"
        },
        "id": "Cp945WhJivig",
        "outputId": "5c38c296-4b2e-49cb-80c1-909686f721f8"
      },
      "execution_count": 33,
      "outputs": [
        {
          "output_type": "execute_result",
          "data": {
            "text/plain": [
              "{Google celebrated British illustrator and artist: 1.4158452297917816,\n",
              " Sir John Tenniel's 200th birth anniversary with a doodle on February 28.: 2.7626293301415488,\n",
              " An acclaimed Victorian painter, Tenniel is celebrated for his illustrations for Lewis Carroll's Alice's Adventures in Wonderland and Through the Looking-Glass.: 6.718945231020269,\n",
              " Tenniel was born in Bayswater, West London in 1820.: 3.4389735979241443,\n",
              " At the age of 20, Tenniel received a major eye injury and eventually, lost sight in his right eye.: 6.44324770069177,\n",
              " From a very early age, Tenniel was appreciated as a humorist and soon after, also cultured his talent for scholarly caricature.: 5.921434730757202,\n",
              " His first illustration was for Samuel Carter Hall's The Book of British Ballads in 1842.: 4.717568870721059,\n",
              " Eight years later, he joined the historic weekly magazine Punch as a political cartoonist.: 2.7520059152081635,\n",
              " Lewis Carroll noticed Tenniel's distinct style of work and in 1864, approached the artist to illustrate his book, Alice's Adventures in Wonderland.: 7.251325897687851,\n",
              " This association marked Carroll and Tenniel's creative partnership and continued with Through the Looking Glass in 1872.: 5.742760560865093,\n",
              " \"The result: a series of classic characters, such as Alice and the Cheshire Cat, as depicted in the Doodle artwork's rendition of their iconic meeting-characters who, along with many others, remain beloved by readers of all ages to this day,\" the Google Doodle page says.: 11.950711352764488,\n",
              " After working with Lewis Carroll, Tenniel resumed his work with Punch.: 2.922647840620347,\n",
              " For his work, Tenniel also received a knighthood in 1893.: 4.101211425570941,\n",
              " Sir John Tenniel died on February 25, 1914.: 1.415844298987311,\n",
              " He was 93.: 0.5368399269774623}"
            ]
          },
          "metadata": {},
          "execution_count": 33
        }
      ]
    },
    {
      "cell_type": "code",
      "source": [
        "# top_n_sentences = \n",
        "x = sentence_scores\n",
        "top_n_sentences = [k for k, v in sorted(x.items(), key=lambda item: item[1])][::-1][:len(sentence_scores)//3]\n",
        "\n",
        "mapped_sentences = [ (sentence, sentence_organizer[sentence]) for sentence in top_n_sentences]\n",
        "mapped_top_n_sentences = sorted(mapped_sentences, key = lambda x: x[1])\n",
        "ordered_sentence = [sentence[0] for sentence in mapped_top_n_sentences]\n",
        "summary = \" \"\n",
        "for sent in ordered_sentence:\n",
        "    summary += sent.text\n",
        "\n",
        "ordered_sentence"
      ],
      "metadata": {
        "colab": {
          "base_uri": "https://localhost:8080/"
        },
        "id": "xMd6aWJ8JTAj",
        "outputId": "d6a2f582-0bf6-49b7-a8c0-7981a64ab831"
      },
      "execution_count": 34,
      "outputs": [
        {
          "output_type": "execute_result",
          "data": {
            "text/plain": [
              "[An acclaimed Victorian painter, Tenniel is celebrated for his illustrations for Lewis Carroll's Alice's Adventures in Wonderland and Through the Looking-Glass.,\n",
              " At the age of 20, Tenniel received a major eye injury and eventually, lost sight in his right eye.,\n",
              " From a very early age, Tenniel was appreciated as a humorist and soon after, also cultured his talent for scholarly caricature.,\n",
              " Lewis Carroll noticed Tenniel's distinct style of work and in 1864, approached the artist to illustrate his book, Alice's Adventures in Wonderland.,\n",
              " \"The result: a series of classic characters, such as Alice and the Cheshire Cat, as depicted in the Doodle artwork's rendition of their iconic meeting-characters who, along with many others, remain beloved by readers of all ages to this day,\" the Google Doodle page says.]"
            ]
          },
          "metadata": {},
          "execution_count": 34
        }
      ]
    }
  ],
  "metadata": {
    "colab": {
      "name": "Untitled22.ipynb",
      "provenance": [],
      "history_visible": true,
      "include_colab_link": true
    },
    "kernelspec": {
      "display_name": "Python 3",
      "name": "python3"
    },
    "language_info": {
      "name": "python"
    }
  },
  "nbformat": 4,
  "nbformat_minor": 0
}